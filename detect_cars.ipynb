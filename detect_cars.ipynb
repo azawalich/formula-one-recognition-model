{
 "cells": [
  {
   "cell_type": "markdown",
   "metadata": {},
   "source": [
    "## Image  - own function"
   ]
  },
  {
   "cell_type": "code",
   "execution_count": null,
   "metadata": {},
   "outputs": [],
   "source": [
    "from functions import * \n",
    "from constants import *\n",
    "image_path = './input/lando-norris-mclaren-mcl35m-1.png'\n",
    "class_names, predictor = initialize_models(net_type, model_path, label_path, size_candidate)\n",
    "result_content_filepath = predict_image(image_path, class_names, predictor)\n",
    "print(result_content_filepath)"
   ]
  },
  {
   "cell_type": "markdown",
   "metadata": {},
   "source": [
    "## Video  - own function"
   ]
  },
  {
   "cell_type": "code",
   "execution_count": null,
   "metadata": {},
   "outputs": [],
   "source": [
    "from functions import * \n",
    "from constants import *\n",
    "video_file = './input/sample_video2.mp4'\n",
    "class_names, predictor = initialize_models(net_type, model_path, label_path, size_candidate)\n",
    "result_content_filepath = predict_video(video_file, class_names, predictor)\n",
    "print(result_content_filepath)"
   ]
  }
 ],
 "metadata": {
  "kernelspec": {
   "display_name": ".venv",
   "language": "python",
   "name": "python3"
  },
  "language_info": {
   "codemirror_mode": {
    "name": "ipython",
    "version": 3
   },
   "file_extension": ".py",
   "mimetype": "text/x-python",
   "name": "python",
   "nbconvert_exporter": "python",
   "pygments_lexer": "ipython3",
   "version": "3.10.12"
  }
 },
 "nbformat": 4,
 "nbformat_minor": 2
}
